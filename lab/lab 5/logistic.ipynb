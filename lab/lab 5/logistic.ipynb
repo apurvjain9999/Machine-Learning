{
 "cells": [
  {
   "cell_type": "code",
   "execution_count": 443,
   "metadata": {},
   "outputs": [],
   "source": [
    "import matplotlib.pyplot as plt\n",
    "import numpy as np \n",
    "import pandas as pd"
   ]
  },
  {
   "cell_type": "code",
   "execution_count": 444,
   "metadata": {},
   "outputs": [],
   "source": [
    "from sklearn.datasets import make_moons\n",
    "from sklearn.model_selection import train_test_split\n",
    "from sklearn.linear_model import LogisticRegression\n",
    "from sklearn.linear_model import Ridge\n",
    "from sklearn.metrics import accuracy_score"
   ]
  },
  {
   "cell_type": "code",
   "execution_count": 445,
   "metadata": {},
   "outputs": [],
   "source": [
    "def roundoff(arr):\n",
    "    for i in range(0, len(arr)):\n",
    "        if arr[i] >= 0.5:\n",
    "            arr[i] = 1;\n",
    "        else:\n",
    "            arr[i] = 0;\n",
    "    return arr"
   ]
  },
  {
   "cell_type": "code",
   "execution_count": 446,
   "metadata": {},
   "outputs": [
    {
     "data": {
      "text/html": [
       "<div>\n",
       "<style scoped>\n",
       "    .dataframe tbody tr th:only-of-type {\n",
       "        vertical-align: middle;\n",
       "    }\n",
       "\n",
       "    .dataframe tbody tr th {\n",
       "        vertical-align: top;\n",
       "    }\n",
       "\n",
       "    .dataframe thead th {\n",
       "        text-align: right;\n",
       "    }\n",
       "</style>\n",
       "<table border=\"1\" class=\"dataframe\">\n",
       "  <thead>\n",
       "    <tr style=\"text-align: right;\">\n",
       "      <th></th>\n",
       "      <th>f1</th>\n",
       "      <th>f2</th>\n",
       "      <th>label</th>\n",
       "    </tr>\n",
       "  </thead>\n",
       "  <tbody>\n",
       "    <tr>\n",
       "      <th>0</th>\n",
       "      <td>0.793809</td>\n",
       "      <td>-0.526139</td>\n",
       "      <td>1</td>\n",
       "    </tr>\n",
       "    <tr>\n",
       "      <th>1</th>\n",
       "      <td>1.378468</td>\n",
       "      <td>-0.316223</td>\n",
       "      <td>1</td>\n",
       "    </tr>\n",
       "    <tr>\n",
       "      <th>2</th>\n",
       "      <td>-0.443290</td>\n",
       "      <td>0.770801</td>\n",
       "      <td>0</td>\n",
       "    </tr>\n",
       "    <tr>\n",
       "      <th>3</th>\n",
       "      <td>0.228993</td>\n",
       "      <td>-0.185399</td>\n",
       "      <td>1</td>\n",
       "    </tr>\n",
       "    <tr>\n",
       "      <th>4</th>\n",
       "      <td>0.907784</td>\n",
       "      <td>0.448464</td>\n",
       "      <td>0</td>\n",
       "    </tr>\n",
       "  </tbody>\n",
       "</table>\n",
       "</div>"
      ],
      "text/plain": [
       "         f1        f2  label\n",
       "0  0.793809 -0.526139      1\n",
       "1  1.378468 -0.316223      1\n",
       "2 -0.443290  0.770801      0\n",
       "3  0.228993 -0.185399      1\n",
       "4  0.907784  0.448464      0"
      ]
     },
     "execution_count": 446,
     "metadata": {},
     "output_type": "execute_result"
    }
   ],
   "source": [
    "a, b = make_moons(n_samples=20, noise=0.1)\n",
    "df = pd.DataFrame(dict(f1=a[:,0], f2=a[:,1], label=b))\n",
    "df.head()"
   ]
  },
  {
   "cell_type": "code",
   "execution_count": 447,
   "metadata": {},
   "outputs": [],
   "source": [
    "#Feature selection\n",
    "X = df.iloc[:,0:1]  #Features\n",
    "Y = df.label        #Class/output variable"
   ]
  },
  {
   "cell_type": "code",
   "execution_count": 448,
   "metadata": {},
   "outputs": [
    {
     "data": {
      "text/plain": [
       "Ridge(alpha=100, copy_X=True, fit_intercept=True, max_iter=None,\n",
       "      normalize=False, random_state=None, solver='auto', tol=0.001)"
      ]
     },
     "execution_count": 448,
     "metadata": {},
     "output_type": "execute_result"
    }
   ],
   "source": [
    "X_train,X_test,y_train,y_test=train_test_split(X, Y, test_size=0.3, random_state=3)\n",
    "\n",
    "lr = LogisticRegression(penalty='none', solver='lbfgs')\n",
    "lr.fit(X_train, y_train)\n",
    "\n",
    "rr = Ridge(alpha=0.01) # higher the alpha value, more restriction on the coefficients; \n",
    "#low alpha > more generalization\n",
    "\n",
    "rr.fit(X_train, y_train)\n",
    "\n",
    "rr100 = Ridge(alpha=100) #  comparison with alpha value\n",
    "rr100.fit(X_train, y_train)"
   ]
  },
  {
   "cell_type": "code",
   "execution_count": 449,
   "metadata": {},
   "outputs": [],
   "source": [
    "y_pred_l = lr.predict(X_test)\n",
    "y_pred_rr = rr.predict(X_test)\n",
    "y_pred_rr100 = rr100.predict(X_test)"
   ]
  },
  {
   "cell_type": "code",
   "execution_count": 450,
   "metadata": {},
   "outputs": [],
   "source": [
    "y_pred_rr = roundoff(y_pred_rr)\n",
    "y_pred_rr100 = roundoff(y_pred_rr100)"
   ]
  },
  {
   "cell_type": "code",
   "execution_count": 451,
   "metadata": {},
   "outputs": [
    {
     "name": "stdout",
     "output_type": "stream",
     "text": [
      "logistic regression rmse: 0.5773502691896257\n",
      "ridge regression rmse low alpha: 0.5773502691896257\n",
      "ridge regression rsme high alpha: 0.816496580927726\n"
     ]
    }
   ],
   "source": [
    "from sklearn.metrics import mean_squared_error\n",
    "\n",
    "test_score  = np.sqrt(mean_squared_error(y_test, y_pred_l))\n",
    "Ridge_test_score = np.sqrt(mean_squared_error(y_test, y_pred_rr))\n",
    "Ridge_test_score100 = np.sqrt(mean_squared_error(y_test, y_pred_rr100))\n",
    "\n",
    "print(\"logistic regression rmse:\", test_score)\n",
    "print(\"ridge regression rmse low alpha:\", Ridge_test_score)\n",
    "print(\"ridge regression rsme high alpha:\", Ridge_test_score100)"
   ]
  },
  {
   "cell_type": "code",
   "execution_count": 452,
   "metadata": {},
   "outputs": [
    {
     "data": {
      "image/png": "[encoded data removed]",
      "text/plain": [
       "<Figure size 1440x720 with 1 Axes>"
      ]
     },
     "metadata": {
      "needs_background": "light"
     },
     "output_type": "display_data"
    }
   ],
   "source": [
    "plt.rcParams.update({'font.size': 16})\n",
    "plt.figure(figsize=(20, 10))\n",
    "plt.plot(X_test, y_pred_rr, alpha=1,linestyle='none',marker='s',markersize=8,color='green',label=r'Ridge; $\\alpha = 0.01$') # zorder for ordering the markers\n",
    "plt.plot(X_test, y_pred_rr100, alpha=0.8,linestyle='none',marker='d',markersize=6,color='red',label=r'Ridge; $\\alpha = 100$') # alpha here is for transparency\n",
    "plt.plot(X_test, y_pred_l, alpha=0.7,linestyle='none',marker='o',markersize=5,color='blue',label='Logistic Regression')\n",
    "plt.ylabel('Predicted value',fontsize=18)\n",
    "plt.xlabel('Value of X_test',fontsize=18)\n",
    "plt.yticks(np.arange(0, 1.5, 0.5)) \n",
    "plt.legend(fontsize=18,loc='lower right', bbox_to_anchor=(1.3, 0.0))\n",
    "plt.savefig('value.png')\n",
    "plt.show()"
   ]
  },
  {
   "cell_type": "code",
   "execution_count": null,
   "metadata": {},
   "outputs": [],
   "source": []
  }
 ],
 "metadata": {
  "kernelspec": {
   "display_name": "Python 3",
   "language": "python",
   "name": "python3"
  },
  "language_info": {
   "codemirror_mode": {
    "name": "ipython",
    "version": 3
   },
   "file_extension": ".py",
   "mimetype": "text/x-python",
   "name": "python",
   "nbconvert_exporter": "python",
   "pygments_lexer": "ipython3",
   "version": "3.7.1"
  }
 },
 "nbformat": 4,
 "nbformat_minor": 2
}
